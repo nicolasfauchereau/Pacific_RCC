{
 "cells": [
  {
   "cell_type": "markdown",
   "metadata": {},
   "source": [
    "### Imports "
   ]
  },
  {
   "cell_type": "code",
   "execution_count": 1,
   "metadata": {},
   "outputs": [],
   "source": [
    "import os \n",
    "import sys\n",
    "import pathlib\n",
    "import requests\n",
    "from io import StringIO, BytesIO\n",
    "from datetime import datetime, timedelta\n",
    "from dateutil.relativedelta import relativedelta"
   ]
  },
  {
   "cell_type": "code",
   "execution_count": 2,
   "metadata": {},
   "outputs": [],
   "source": [
    "import matplotlib\n",
    "from matplotlib import pyplot as plt\n",
    "from matplotlib.colors import ListedColormap"
   ]
  },
  {
   "cell_type": "code",
   "execution_count": 3,
   "metadata": {},
   "outputs": [],
   "source": [
    "matplotlib.rc('xtick', labelsize=14) \n",
    "matplotlib.rc('ytick', labelsize=14) "
   ]
  },
  {
   "cell_type": "code",
   "execution_count": 4,
   "metadata": {},
   "outputs": [],
   "source": [
    "import seaborn as sns"
   ]
  },
  {
   "cell_type": "code",
   "execution_count": 5,
   "metadata": {},
   "outputs": [],
   "source": [
    "import numpy as np\n",
    "import pandas as pd"
   ]
  },
  {
   "cell_type": "code",
   "execution_count": 6,
   "metadata": {},
   "outputs": [],
   "source": [
    "from dateparser import parse"
   ]
  },
  {
   "cell_type": "code",
   "execution_count": 7,
   "metadata": {},
   "outputs": [],
   "source": [
    "headers = {'User-Agent' : \"Mozilla/5.0 (Macintosh; Intel Mac OS X 11_2_3) AppleWebKit/537.36 (KHTML, like Gecko) Chrome/89.0.4389.128 Safari/537.36\"}"
   ]
  },
  {
   "cell_type": "markdown",
   "metadata": {},
   "source": [
    "### Some parameters "
   ]
  },
  {
   "cell_type": "markdown",
   "metadata": {},
   "source": [
    "### number of months to keep (last 12)"
   ]
  },
  {
   "cell_type": "code",
   "execution_count": 8,
   "metadata": {},
   "outputs": [],
   "source": [
    "n_months = 24 # If you are running this in January, use this n_months = 24\n",
    "lag = 0 # lag to realtime"
   ]
  },
  {
   "cell_type": "code",
   "execution_count": 9,
   "metadata": {},
   "outputs": [],
   "source": [
    "current_year = parse('this year')\n",
    "current_year = current_year.strftime(\"%Y\")"
   ]
  },
  {
   "cell_type": "code",
   "execution_count": 10,
   "metadata": {},
   "outputs": [],
   "source": [
    "year = int(current_year)"
   ]
  },
  {
   "cell_type": "code",
   "execution_count": 11,
   "metadata": {},
   "outputs": [],
   "source": [
    "this_month = parse(f'{lag+1} months ago')\n",
    "this_month = this_month.strftime(\"%m\")"
   ]
  },
  {
   "cell_type": "code",
   "execution_count": 12,
   "metadata": {},
   "outputs": [],
   "source": [
    "month = int(this_month)"
   ]
  },
  {
   "cell_type": "code",
   "execution_count": 13,
   "metadata": {},
   "outputs": [],
   "source": [
    "enso_tracker_path = '../template'"
   ]
  },
  {
   "cell_type": "code",
   "execution_count": 14,
   "metadata": {},
   "outputs": [],
   "source": [
    "figures_path = './figures'"
   ]
  },
  {
   "cell_type": "code",
   "execution_count": 15,
   "metadata": {},
   "outputs": [],
   "source": [
    "if not pathlib.Path(figures_path).exists(): \n",
    "    pathlib.Path(figures_path).mkdir(parents=True)"
   ]
  },
  {
   "cell_type": "code",
   "execution_count": 16,
   "metadata": {},
   "outputs": [],
   "source": [
    "last_valid = datetime(year, month, 1)"
   ]
  },
  {
   "cell_type": "code",
   "execution_count": 17,
   "metadata": {},
   "outputs": [],
   "source": [
    "last_valid = last_valid + pd.offsets.MonthEnd(0)\n",
    "\n",
    "# If you are running this in January, use this\n",
    "# last_valid = last_valid + pd.offsets.MonthEnd(-12)"
   ]
  },
  {
   "cell_type": "code",
   "execution_count": 18,
   "metadata": {},
   "outputs": [
    {
     "data": {
      "text/plain": [
       "Timestamp('2025-04-30 00:00:00')"
      ]
     },
     "execution_count": 18,
     "metadata": {},
     "output_type": "execute_result"
    }
   ],
   "source": [
    "last_valid"
   ]
  },
  {
   "cell_type": "code",
   "execution_count": 19,
   "metadata": {},
   "outputs": [],
   "source": [
    "start_date = last_valid - relativedelta(months=n_months)\n",
    "\n",
    "# If you are running this in January, use this\n",
    "# n_months = 12\n",
    "# start_date = last_valid - relativedelta(months=n_months)"
   ]
  },
  {
   "cell_type": "code",
   "execution_count": 20,
   "metadata": {},
   "outputs": [
    {
     "data": {
      "text/plain": [
       "Timestamp('2023-04-30 00:00:00')"
      ]
     },
     "execution_count": 20,
     "metadata": {},
     "output_type": "execute_result"
    }
   ],
   "source": [
    "start_date"
   ]
  },
  {
   "cell_type": "markdown",
   "metadata": {},
   "source": [
    "### Access and read the NINO3.4 index from the BoM "
   ]
  },
  {
   "cell_type": "code",
   "execution_count": 21,
   "metadata": {},
   "outputs": [],
   "source": [
    "import requests\n",
    "from io import StringIO\n",
    "import pandas as pd\n",
    "\n",
    "def get_NINO34_anomaly(base_url=\"https://www.cpc.ncep.noaa.gov/data/indices/ersst5.nino.mth.91-20.ascii\", start_date=None, end_date=None):\n",
    "    \"\"\"\n",
    "    Get the NINO 3.4 anomaly data from the specified URL\n",
    "    \"\"\"\n",
    "    \n",
    "    # Make the request to get the data\n",
    "    r = requests.get(base_url)\n",
    "\n",
    "    if r.status_code != 200:\n",
    "        print(f\"Something went wrong with accessing the URL {base_url}\")\n",
    "        return None\n",
    "\n",
    "    # Read the response content as a string\n",
    "    data = r.text\n",
    "\n",
    "    # Skip the first few lines until the header row\n",
    "    data_lines = data.split('\\n')[1:]\n",
    "\n",
    "    # Read the data into a DataFrame\n",
    "    nino_data = pd.read_csv(StringIO('\\n'.join(data_lines)), sep='\\s+', header=None, usecols=[0, 1, 9], names=['YR', 'MON', 'NINO3.4'])\n",
    "\n",
    "    # Combine 'YR' and 'MON' columns into a datetime index\n",
    "    nino_data['Date'] = pd.to_datetime(nino_data['YR'].astype(str) + '-' + nino_data['MON'].astype(str), format='%Y-%m')\n",
    "    nino_data.set_index('Date', inplace=True)\n",
    "    nino_data.drop(columns=['YR', 'MON'], inplace=True)\n",
    "\n",
    "    # Filter by start and end dates if provided\n",
    "    if start_date is not None:\n",
    "        nino_data = nino_data.loc[start_date:]\n",
    "    if end_date is not None:\n",
    "        nino_data = nino_data.loc[:end_date]\n",
    "\n",
    "    return nino_data\n"
   ]
  },
  {
   "cell_type": "code",
   "execution_count": 22,
   "metadata": {},
   "outputs": [],
   "source": [
    "def get_LP_SOI(url='https://data.longpaddock.qld.gov.au/SeasonalClimateOutlook/SouthernOscillationIndex/SOIDataFiles/DailySOI1933-1992Base.txt', start_date=None, end_date=None): \n",
    "    \"\"\"\n",
    "    get the SOI from LongPaddock\n",
    "    \"\"\"\n",
    "    \n",
    "    from datetime import datetime, timedelta\n",
    "    from dateutil.relativedelta import relativedelta\n",
    "    import numpy as np \n",
    "    import pandas as pd\n",
    "    \n",
    "    r = requests.get(url)\n",
    "\n",
    "    if r.status_code != 200: \n",
    "        print(f\"something went wrong with accessing the URL {url_soi}\")\n",
    "    else: \n",
    "        soi_index = pd.read_table(BytesIO(r.content), sep='\\s+', engine='python') \n",
    "        \n",
    "    index = [datetime(int(year),1,1) + timedelta(int(day)-1) for year, day in soi_index.loc[:,['Year','Day']].values]\n",
    "    soi_index.index = index\n",
    "    soi_index = soi_index.resample('ME').mean()\n",
    "\n",
    "    if not (start_date == end_date == None):\n",
    "        soi_index = soi_index.loc[start_date:end_date,:]\n",
    "    else: \n",
    "        start_date = (datetime.utcnow() - timedelta(15)) - relativedelta(months=n_months)\n",
    "        soi_index = soi_index.loc[start_date:,:]\n",
    "    \n",
    "    return soi_index"
   ]
  },
  {
   "cell_type": "code",
   "execution_count": 23,
   "metadata": {},
   "outputs": [],
   "source": [
    "def read_ENSO_categories(dpath = '../template', fname = 'Pacific_RCC_ENSO_tracker.csv'): \n",
    "    \n",
    "    import pathlib\n",
    "    import numpy as np \n",
    "    import pandas as pd \n",
    "    \n",
    "    filename = pathlib.Path(dpath).joinpath(fname)\n",
    "    \n",
    "    enso_cat = pd.read_csv(filename)\n",
    "    \n",
    "    # goes from string to categories \n",
    "    cat_to_int = {} \n",
    "\n",
    "    cat_to_int['La_Nina'] = -3\n",
    "    cat_to_int['La_Nina_alert'] = -2\n",
    "    cat_to_int['La_Nina_watch'] = -1\n",
    "    cat_to_int['neutral'] = 0\n",
    "    cat_to_int['El_Nino_watch'] = 1 \n",
    "    cat_to_int['El_Nino_alert'] = 2 \n",
    "    cat_to_int['El_Nino'] = 3\n",
    "    \n",
    "    enso_cat_int = enso_cat.replace(cat_to_int)\n",
    "    \n",
    "    enso_cat_int.loc[:,'date'] = np.nan\n",
    "    \n",
    "    # build the index \n",
    "    enso_cat_int.loc[:,'date'] = enso_cat_int.loc[:,'YEAR'].astype(str) + \"-\" + enso_cat_int.loc[:,'MONTH'].astype(str).str.zfill(2)\n",
    "    \n",
    "    enso_cat_int = enso_cat_int.set_index('date').drop(['YEAR','MONTH'],axis=1) \n",
    "    \n",
    "    enso_cat_int.index = pd.to_datetime(enso_cat_int.index) + pd.offsets.MonthEnd(0) \n",
    "    \n",
    "    return enso_cat_int"
   ]
  },
  {
   "cell_type": "markdown",
   "metadata": {},
   "source": [
    "### data munging"
   ]
  },
  {
   "cell_type": "code",
   "execution_count": 24,
   "metadata": {},
   "outputs": [],
   "source": [
    "nino_index = get_NINO34_anomaly(start_date=start_date, end_date=last_valid)"
   ]
  },
  {
   "cell_type": "code",
   "execution_count": 25,
   "metadata": {},
   "outputs": [],
   "source": [
    "nino_index = nino_index.reset_index()"
   ]
  },
  {
   "cell_type": "code",
   "execution_count": 26,
   "metadata": {},
   "outputs": [],
   "source": [
    "nino_index.rename(columns={nino_index.columns[0]: ''}, inplace=True)"
   ]
  },
  {
   "cell_type": "code",
   "execution_count": 27,
   "metadata": {},
   "outputs": [],
   "source": [
    "nino_index.set_index('', inplace=True)"
   ]
  },
  {
   "cell_type": "code",
   "execution_count": 28,
   "metadata": {},
   "outputs": [],
   "source": [
    "nino_index.rename(columns={'NINO3.4': 'SST'}, inplace=True)"
   ]
  },
  {
   "cell_type": "code",
   "execution_count": 29,
   "metadata": {},
   "outputs": [],
   "source": [
    "nino_index.index = nino_index.index.to_period('M').to_timestamp('M') + pd.offsets.MonthEnd(0)"
   ]
  },
  {
   "cell_type": "code",
   "execution_count": 30,
   "metadata": {},
   "outputs": [
    {
     "data": {
      "text/html": [
       "<div>\n",
       "<style scoped>\n",
       "    .dataframe tbody tr th:only-of-type {\n",
       "        vertical-align: middle;\n",
       "    }\n",
       "\n",
       "    .dataframe tbody tr th {\n",
       "        vertical-align: top;\n",
       "    }\n",
       "\n",
       "    .dataframe thead th {\n",
       "        text-align: right;\n",
       "    }\n",
       "</style>\n",
       "<table border=\"1\" class=\"dataframe\">\n",
       "  <thead>\n",
       "    <tr style=\"text-align: right;\">\n",
       "      <th></th>\n",
       "      <th>SST</th>\n",
       "    </tr>\n",
       "    <tr>\n",
       "      <th></th>\n",
       "      <th></th>\n",
       "    </tr>\n",
       "  </thead>\n",
       "  <tbody>\n",
       "    <tr>\n",
       "      <th>2023-05-31</th>\n",
       "      <td>0.46</td>\n",
       "    </tr>\n",
       "    <tr>\n",
       "      <th>2023-06-30</th>\n",
       "      <td>0.84</td>\n",
       "    </tr>\n",
       "    <tr>\n",
       "      <th>2023-07-31</th>\n",
       "      <td>1.02</td>\n",
       "    </tr>\n",
       "    <tr>\n",
       "      <th>2023-08-31</th>\n",
       "      <td>1.35</td>\n",
       "    </tr>\n",
       "    <tr>\n",
       "      <th>2023-09-30</th>\n",
       "      <td>1.60</td>\n",
       "    </tr>\n",
       "    <tr>\n",
       "      <th>2023-10-31</th>\n",
       "      <td>1.72</td>\n",
       "    </tr>\n",
       "    <tr>\n",
       "      <th>2023-11-30</th>\n",
       "      <td>2.02</td>\n",
       "    </tr>\n",
       "    <tr>\n",
       "      <th>2023-12-31</th>\n",
       "      <td>2.03</td>\n",
       "    </tr>\n",
       "    <tr>\n",
       "      <th>2024-01-31</th>\n",
       "      <td>1.81</td>\n",
       "    </tr>\n",
       "    <tr>\n",
       "      <th>2024-02-29</th>\n",
       "      <td>1.52</td>\n",
       "    </tr>\n",
       "    <tr>\n",
       "      <th>2024-03-31</th>\n",
       "      <td>1.13</td>\n",
       "    </tr>\n",
       "    <tr>\n",
       "      <th>2024-04-30</th>\n",
       "      <td>0.77</td>\n",
       "    </tr>\n",
       "    <tr>\n",
       "      <th>2024-05-31</th>\n",
       "      <td>0.23</td>\n",
       "    </tr>\n",
       "    <tr>\n",
       "      <th>2024-06-30</th>\n",
       "      <td>0.17</td>\n",
       "    </tr>\n",
       "    <tr>\n",
       "      <th>2024-07-31</th>\n",
       "      <td>0.04</td>\n",
       "    </tr>\n",
       "    <tr>\n",
       "      <th>2024-08-31</th>\n",
       "      <td>-0.12</td>\n",
       "    </tr>\n",
       "    <tr>\n",
       "      <th>2024-09-30</th>\n",
       "      <td>-0.26</td>\n",
       "    </tr>\n",
       "    <tr>\n",
       "      <th>2024-10-31</th>\n",
       "      <td>-0.27</td>\n",
       "    </tr>\n",
       "    <tr>\n",
       "      <th>2024-11-30</th>\n",
       "      <td>-0.25</td>\n",
       "    </tr>\n",
       "    <tr>\n",
       "      <th>2024-12-31</th>\n",
       "      <td>-0.60</td>\n",
       "    </tr>\n",
       "    <tr>\n",
       "      <th>2025-01-31</th>\n",
       "      <td>-0.74</td>\n",
       "    </tr>\n",
       "    <tr>\n",
       "      <th>2025-02-28</th>\n",
       "      <td>-0.43</td>\n",
       "    </tr>\n",
       "    <tr>\n",
       "      <th>2025-03-31</th>\n",
       "      <td>0.01</td>\n",
       "    </tr>\n",
       "    <tr>\n",
       "      <th>2025-04-30</th>\n",
       "      <td>-0.16</td>\n",
       "    </tr>\n",
       "  </tbody>\n",
       "</table>\n",
       "</div>"
      ],
      "text/plain": [
       "             SST\n",
       "                \n",
       "2023-05-31  0.46\n",
       "2023-06-30  0.84\n",
       "2023-07-31  1.02\n",
       "2023-08-31  1.35\n",
       "2023-09-30  1.60\n",
       "2023-10-31  1.72\n",
       "2023-11-30  2.02\n",
       "2023-12-31  2.03\n",
       "2024-01-31  1.81\n",
       "2024-02-29  1.52\n",
       "2024-03-31  1.13\n",
       "2024-04-30  0.77\n",
       "2024-05-31  0.23\n",
       "2024-06-30  0.17\n",
       "2024-07-31  0.04\n",
       "2024-08-31 -0.12\n",
       "2024-09-30 -0.26\n",
       "2024-10-31 -0.27\n",
       "2024-11-30 -0.25\n",
       "2024-12-31 -0.60\n",
       "2025-01-31 -0.74\n",
       "2025-02-28 -0.43\n",
       "2025-03-31  0.01\n",
       "2025-04-30 -0.16"
      ]
     },
     "execution_count": 30,
     "metadata": {},
     "output_type": "execute_result"
    }
   ],
   "source": [
    "nino_index"
   ]
  },
  {
   "cell_type": "code",
   "execution_count": 31,
   "metadata": {},
   "outputs": [],
   "source": [
    "soi_index = get_LP_SOI(start_date=start_date, end_date=last_valid)"
   ]
  },
  {
   "cell_type": "code",
   "execution_count": 32,
   "metadata": {},
   "outputs": [],
   "source": [
    "soi_index = soi_index.loc[:,['SOI']]"
   ]
  },
  {
   "cell_type": "code",
   "execution_count": 33,
   "metadata": {},
   "outputs": [],
   "source": [
    "soi_index = soi_index.iloc[1:]"
   ]
  },
  {
   "cell_type": "code",
   "execution_count": 34,
   "metadata": {},
   "outputs": [
    {
     "data": {
      "text/html": [
       "<div>\n",
       "<style scoped>\n",
       "    .dataframe tbody tr th:only-of-type {\n",
       "        vertical-align: middle;\n",
       "    }\n",
       "\n",
       "    .dataframe tbody tr th {\n",
       "        vertical-align: top;\n",
       "    }\n",
       "\n",
       "    .dataframe thead th {\n",
       "        text-align: right;\n",
       "    }\n",
       "</style>\n",
       "<table border=\"1\" class=\"dataframe\">\n",
       "  <thead>\n",
       "    <tr style=\"text-align: right;\">\n",
       "      <th></th>\n",
       "      <th>SOI</th>\n",
       "    </tr>\n",
       "  </thead>\n",
       "  <tbody>\n",
       "    <tr>\n",
       "      <th>2023-05-31</th>\n",
       "      <td>-17.696129</td>\n",
       "    </tr>\n",
       "    <tr>\n",
       "      <th>2023-06-30</th>\n",
       "      <td>-1.023333</td>\n",
       "    </tr>\n",
       "    <tr>\n",
       "      <th>2023-07-31</th>\n",
       "      <td>-4.024516</td>\n",
       "    </tr>\n",
       "    <tr>\n",
       "      <th>2023-08-31</th>\n",
       "      <td>-12.354839</td>\n",
       "    </tr>\n",
       "    <tr>\n",
       "      <th>2023-09-30</th>\n",
       "      <td>-13.774333</td>\n",
       "    </tr>\n",
       "    <tr>\n",
       "      <th>2023-10-31</th>\n",
       "      <td>-6.340323</td>\n",
       "    </tr>\n",
       "    <tr>\n",
       "      <th>2023-11-30</th>\n",
       "      <td>-8.869667</td>\n",
       "    </tr>\n",
       "    <tr>\n",
       "      <th>2023-12-31</th>\n",
       "      <td>-2.574839</td>\n",
       "    </tr>\n",
       "    <tr>\n",
       "      <th>2024-01-31</th>\n",
       "      <td>3.964516</td>\n",
       "    </tr>\n",
       "    <tr>\n",
       "      <th>2024-02-29</th>\n",
       "      <td>-13.852414</td>\n",
       "    </tr>\n",
       "    <tr>\n",
       "      <th>2024-03-31</th>\n",
       "      <td>0.011935</td>\n",
       "    </tr>\n",
       "    <tr>\n",
       "      <th>2024-04-30</th>\n",
       "      <td>-6.494000</td>\n",
       "    </tr>\n",
       "    <tr>\n",
       "      <th>2024-05-31</th>\n",
       "      <td>3.053226</td>\n",
       "    </tr>\n",
       "    <tr>\n",
       "      <th>2024-06-30</th>\n",
       "      <td>-3.935333</td>\n",
       "    </tr>\n",
       "    <tr>\n",
       "      <th>2024-07-31</th>\n",
       "      <td>-6.958387</td>\n",
       "    </tr>\n",
       "    <tr>\n",
       "      <th>2024-08-31</th>\n",
       "      <td>7.007097</td>\n",
       "    </tr>\n",
       "    <tr>\n",
       "      <th>2024-09-30</th>\n",
       "      <td>-0.558000</td>\n",
       "    </tr>\n",
       "    <tr>\n",
       "      <th>2024-10-31</th>\n",
       "      <td>4.088065</td>\n",
       "    </tr>\n",
       "    <tr>\n",
       "      <th>2024-11-30</th>\n",
       "      <td>6.553333</td>\n",
       "    </tr>\n",
       "    <tr>\n",
       "      <th>2024-12-31</th>\n",
       "      <td>10.841935</td>\n",
       "    </tr>\n",
       "    <tr>\n",
       "      <th>2025-01-31</th>\n",
       "      <td>3.471613</td>\n",
       "    </tr>\n",
       "    <tr>\n",
       "      <th>2025-02-28</th>\n",
       "      <td>7.665000</td>\n",
       "    </tr>\n",
       "    <tr>\n",
       "      <th>2025-03-31</th>\n",
       "      <td>9.598387</td>\n",
       "    </tr>\n",
       "    <tr>\n",
       "      <th>2025-04-30</th>\n",
       "      <td>4.733000</td>\n",
       "    </tr>\n",
       "  </tbody>\n",
       "</table>\n",
       "</div>"
      ],
      "text/plain": [
       "                  SOI\n",
       "2023-05-31 -17.696129\n",
       "2023-06-30  -1.023333\n",
       "2023-07-31  -4.024516\n",
       "2023-08-31 -12.354839\n",
       "2023-09-30 -13.774333\n",
       "2023-10-31  -6.340323\n",
       "2023-11-30  -8.869667\n",
       "2023-12-31  -2.574839\n",
       "2024-01-31   3.964516\n",
       "2024-02-29 -13.852414\n",
       "2024-03-31   0.011935\n",
       "2024-04-30  -6.494000\n",
       "2024-05-31   3.053226\n",
       "2024-06-30  -3.935333\n",
       "2024-07-31  -6.958387\n",
       "2024-08-31   7.007097\n",
       "2024-09-30  -0.558000\n",
       "2024-10-31   4.088065\n",
       "2024-11-30   6.553333\n",
       "2024-12-31  10.841935\n",
       "2025-01-31   3.471613\n",
       "2025-02-28   7.665000\n",
       "2025-03-31   9.598387\n",
       "2025-04-30   4.733000"
      ]
     },
     "execution_count": 34,
     "metadata": {},
     "output_type": "execute_result"
    }
   ],
   "source": [
    "soi_index"
   ]
  },
  {
   "cell_type": "markdown",
   "metadata": {},
   "source": [
    "### check "
   ]
  },
  {
   "cell_type": "code",
   "execution_count": 35,
   "metadata": {},
   "outputs": [],
   "source": [
    "if len(soi_index) != len(nino_index): \n",
    "    print(f\"check the SOI and NINO3.4 index data, the SOI Index has length {len(soi_index)} and the NINO Index has length {len(nino_index)}\")"
   ]
  },
  {
   "cell_type": "markdown",
   "metadata": {},
   "source": [
    "### merge the NINO and SOI index "
   ]
  },
  {
   "cell_type": "code",
   "execution_count": 36,
   "metadata": {},
   "outputs": [],
   "source": [
    "ENSO_index = pd.concat([nino_index, soi_index], axis=1)"
   ]
  },
  {
   "cell_type": "code",
   "execution_count": 37,
   "metadata": {},
   "outputs": [
    {
     "data": {
      "text/html": [
       "<div>\n",
       "<style scoped>\n",
       "    .dataframe tbody tr th:only-of-type {\n",
       "        vertical-align: middle;\n",
       "    }\n",
       "\n",
       "    .dataframe tbody tr th {\n",
       "        vertical-align: top;\n",
       "    }\n",
       "\n",
       "    .dataframe thead th {\n",
       "        text-align: right;\n",
       "    }\n",
       "</style>\n",
       "<table border=\"1\" class=\"dataframe\">\n",
       "  <thead>\n",
       "    <tr style=\"text-align: right;\">\n",
       "      <th></th>\n",
       "      <th>SST</th>\n",
       "      <th>SOI</th>\n",
       "    </tr>\n",
       "  </thead>\n",
       "  <tbody>\n",
       "    <tr>\n",
       "      <th>2023-05-31</th>\n",
       "      <td>0.46</td>\n",
       "      <td>-17.696129</td>\n",
       "    </tr>\n",
       "    <tr>\n",
       "      <th>2023-06-30</th>\n",
       "      <td>0.84</td>\n",
       "      <td>-1.023333</td>\n",
       "    </tr>\n",
       "    <tr>\n",
       "      <th>2023-07-31</th>\n",
       "      <td>1.02</td>\n",
       "      <td>-4.024516</td>\n",
       "    </tr>\n",
       "    <tr>\n",
       "      <th>2023-08-31</th>\n",
       "      <td>1.35</td>\n",
       "      <td>-12.354839</td>\n",
       "    </tr>\n",
       "    <tr>\n",
       "      <th>2023-09-30</th>\n",
       "      <td>1.60</td>\n",
       "      <td>-13.774333</td>\n",
       "    </tr>\n",
       "    <tr>\n",
       "      <th>2023-10-31</th>\n",
       "      <td>1.72</td>\n",
       "      <td>-6.340323</td>\n",
       "    </tr>\n",
       "    <tr>\n",
       "      <th>2023-11-30</th>\n",
       "      <td>2.02</td>\n",
       "      <td>-8.869667</td>\n",
       "    </tr>\n",
       "    <tr>\n",
       "      <th>2023-12-31</th>\n",
       "      <td>2.03</td>\n",
       "      <td>-2.574839</td>\n",
       "    </tr>\n",
       "    <tr>\n",
       "      <th>2024-01-31</th>\n",
       "      <td>1.81</td>\n",
       "      <td>3.964516</td>\n",
       "    </tr>\n",
       "    <tr>\n",
       "      <th>2024-02-29</th>\n",
       "      <td>1.52</td>\n",
       "      <td>-13.852414</td>\n",
       "    </tr>\n",
       "    <tr>\n",
       "      <th>2024-03-31</th>\n",
       "      <td>1.13</td>\n",
       "      <td>0.011935</td>\n",
       "    </tr>\n",
       "    <tr>\n",
       "      <th>2024-04-30</th>\n",
       "      <td>0.77</td>\n",
       "      <td>-6.494000</td>\n",
       "    </tr>\n",
       "    <tr>\n",
       "      <th>2024-05-31</th>\n",
       "      <td>0.23</td>\n",
       "      <td>3.053226</td>\n",
       "    </tr>\n",
       "    <tr>\n",
       "      <th>2024-06-30</th>\n",
       "      <td>0.17</td>\n",
       "      <td>-3.935333</td>\n",
       "    </tr>\n",
       "    <tr>\n",
       "      <th>2024-07-31</th>\n",
       "      <td>0.04</td>\n",
       "      <td>-6.958387</td>\n",
       "    </tr>\n",
       "    <tr>\n",
       "      <th>2024-08-31</th>\n",
       "      <td>-0.12</td>\n",
       "      <td>7.007097</td>\n",
       "    </tr>\n",
       "    <tr>\n",
       "      <th>2024-09-30</th>\n",
       "      <td>-0.26</td>\n",
       "      <td>-0.558000</td>\n",
       "    </tr>\n",
       "    <tr>\n",
       "      <th>2024-10-31</th>\n",
       "      <td>-0.27</td>\n",
       "      <td>4.088065</td>\n",
       "    </tr>\n",
       "    <tr>\n",
       "      <th>2024-11-30</th>\n",
       "      <td>-0.25</td>\n",
       "      <td>6.553333</td>\n",
       "    </tr>\n",
       "    <tr>\n",
       "      <th>2024-12-31</th>\n",
       "      <td>-0.60</td>\n",
       "      <td>10.841935</td>\n",
       "    </tr>\n",
       "    <tr>\n",
       "      <th>2025-01-31</th>\n",
       "      <td>-0.74</td>\n",
       "      <td>3.471613</td>\n",
       "    </tr>\n",
       "    <tr>\n",
       "      <th>2025-02-28</th>\n",
       "      <td>-0.43</td>\n",
       "      <td>7.665000</td>\n",
       "    </tr>\n",
       "    <tr>\n",
       "      <th>2025-03-31</th>\n",
       "      <td>0.01</td>\n",
       "      <td>9.598387</td>\n",
       "    </tr>\n",
       "    <tr>\n",
       "      <th>2025-04-30</th>\n",
       "      <td>-0.16</td>\n",
       "      <td>4.733000</td>\n",
       "    </tr>\n",
       "  </tbody>\n",
       "</table>\n",
       "</div>"
      ],
      "text/plain": [
       "             SST        SOI\n",
       "2023-05-31  0.46 -17.696129\n",
       "2023-06-30  0.84  -1.023333\n",
       "2023-07-31  1.02  -4.024516\n",
       "2023-08-31  1.35 -12.354839\n",
       "2023-09-30  1.60 -13.774333\n",
       "2023-10-31  1.72  -6.340323\n",
       "2023-11-30  2.02  -8.869667\n",
       "2023-12-31  2.03  -2.574839\n",
       "2024-01-31  1.81   3.964516\n",
       "2024-02-29  1.52 -13.852414\n",
       "2024-03-31  1.13   0.011935\n",
       "2024-04-30  0.77  -6.494000\n",
       "2024-05-31  0.23   3.053226\n",
       "2024-06-30  0.17  -3.935333\n",
       "2024-07-31  0.04  -6.958387\n",
       "2024-08-31 -0.12   7.007097\n",
       "2024-09-30 -0.26  -0.558000\n",
       "2024-10-31 -0.27   4.088065\n",
       "2024-11-30 -0.25   6.553333\n",
       "2024-12-31 -0.60  10.841935\n",
       "2025-01-31 -0.74   3.471613\n",
       "2025-02-28 -0.43   7.665000\n",
       "2025-03-31  0.01   9.598387\n",
       "2025-04-30 -0.16   4.733000"
      ]
     },
     "execution_count": 37,
     "metadata": {},
     "output_type": "execute_result"
    }
   ],
   "source": [
    "ENSO_index"
   ]
  },
  {
   "cell_type": "code",
   "execution_count": 38,
   "metadata": {},
   "outputs": [],
   "source": [
    "ENSO_index = ENSO_index.dropna()"
   ]
  },
  {
   "cell_type": "code",
   "execution_count": 39,
   "metadata": {},
   "outputs": [
    {
     "data": {
      "text/html": [
       "<div>\n",
       "<style scoped>\n",
       "    .dataframe tbody tr th:only-of-type {\n",
       "        vertical-align: middle;\n",
       "    }\n",
       "\n",
       "    .dataframe tbody tr th {\n",
       "        vertical-align: top;\n",
       "    }\n",
       "\n",
       "    .dataframe thead th {\n",
       "        text-align: right;\n",
       "    }\n",
       "</style>\n",
       "<table border=\"1\" class=\"dataframe\">\n",
       "  <thead>\n",
       "    <tr style=\"text-align: right;\">\n",
       "      <th></th>\n",
       "      <th>SST</th>\n",
       "      <th>SOI</th>\n",
       "    </tr>\n",
       "  </thead>\n",
       "  <tbody>\n",
       "    <tr>\n",
       "      <th>2023-05-31</th>\n",
       "      <td>0.46</td>\n",
       "      <td>-17.696129</td>\n",
       "    </tr>\n",
       "    <tr>\n",
       "      <th>2023-06-30</th>\n",
       "      <td>0.84</td>\n",
       "      <td>-1.023333</td>\n",
       "    </tr>\n",
       "    <tr>\n",
       "      <th>2023-07-31</th>\n",
       "      <td>1.02</td>\n",
       "      <td>-4.024516</td>\n",
       "    </tr>\n",
       "    <tr>\n",
       "      <th>2023-08-31</th>\n",
       "      <td>1.35</td>\n",
       "      <td>-12.354839</td>\n",
       "    </tr>\n",
       "    <tr>\n",
       "      <th>2023-09-30</th>\n",
       "      <td>1.60</td>\n",
       "      <td>-13.774333</td>\n",
       "    </tr>\n",
       "  </tbody>\n",
       "</table>\n",
       "</div>"
      ],
      "text/plain": [
       "             SST        SOI\n",
       "2023-05-31  0.46 -17.696129\n",
       "2023-06-30  0.84  -1.023333\n",
       "2023-07-31  1.02  -4.024516\n",
       "2023-08-31  1.35 -12.354839\n",
       "2023-09-30  1.60 -13.774333"
      ]
     },
     "execution_count": 39,
     "metadata": {},
     "output_type": "execute_result"
    }
   ],
   "source": [
    "ENSO_index.head()"
   ]
  },
  {
   "cell_type": "code",
   "execution_count": 40,
   "metadata": {},
   "outputs": [
    {
     "data": {
      "text/html": [
       "<div>\n",
       "<style scoped>\n",
       "    .dataframe tbody tr th:only-of-type {\n",
       "        vertical-align: middle;\n",
       "    }\n",
       "\n",
       "    .dataframe tbody tr th {\n",
       "        vertical-align: top;\n",
       "    }\n",
       "\n",
       "    .dataframe thead th {\n",
       "        text-align: right;\n",
       "    }\n",
       "</style>\n",
       "<table border=\"1\" class=\"dataframe\">\n",
       "  <thead>\n",
       "    <tr style=\"text-align: right;\">\n",
       "      <th></th>\n",
       "      <th>SST</th>\n",
       "      <th>SOI</th>\n",
       "    </tr>\n",
       "  </thead>\n",
       "  <tbody>\n",
       "    <tr>\n",
       "      <th>2024-12-31</th>\n",
       "      <td>-0.60</td>\n",
       "      <td>10.841935</td>\n",
       "    </tr>\n",
       "    <tr>\n",
       "      <th>2025-01-31</th>\n",
       "      <td>-0.74</td>\n",
       "      <td>3.471613</td>\n",
       "    </tr>\n",
       "    <tr>\n",
       "      <th>2025-02-28</th>\n",
       "      <td>-0.43</td>\n",
       "      <td>7.665000</td>\n",
       "    </tr>\n",
       "    <tr>\n",
       "      <th>2025-03-31</th>\n",
       "      <td>0.01</td>\n",
       "      <td>9.598387</td>\n",
       "    </tr>\n",
       "    <tr>\n",
       "      <th>2025-04-30</th>\n",
       "      <td>-0.16</td>\n",
       "      <td>4.733000</td>\n",
       "    </tr>\n",
       "  </tbody>\n",
       "</table>\n",
       "</div>"
      ],
      "text/plain": [
       "             SST        SOI\n",
       "2024-12-31 -0.60  10.841935\n",
       "2025-01-31 -0.74   3.471613\n",
       "2025-02-28 -0.43   7.665000\n",
       "2025-03-31  0.01   9.598387\n",
       "2025-04-30 -0.16   4.733000"
      ]
     },
     "execution_count": 40,
     "metadata": {},
     "output_type": "execute_result"
    }
   ],
   "source": [
    "ENSO_index.tail()"
   ]
  },
  {
   "cell_type": "markdown",
   "metadata": {},
   "source": [
    "### selects only the columns we actually need "
   ]
  },
  {
   "cell_type": "code",
   "execution_count": 41,
   "metadata": {},
   "outputs": [],
   "source": [
    "ENSO_index = ENSO_index.loc[:,['SST','SOI']]"
   ]
  },
  {
   "cell_type": "markdown",
   "metadata": {},
   "source": [
    "### divides the SOI by 10 to get something closer to the NIWA SOI "
   ]
  },
  {
   "cell_type": "code",
   "execution_count": 42,
   "metadata": {},
   "outputs": [],
   "source": [
    "ENSO_index.loc[:,'SOI'] /= 10."
   ]
  },
  {
   "cell_type": "code",
   "execution_count": 43,
   "metadata": {},
   "outputs": [
    {
     "data": {
      "text/html": [
       "<div>\n",
       "<style scoped>\n",
       "    .dataframe tbody tr th:only-of-type {\n",
       "        vertical-align: middle;\n",
       "    }\n",
       "\n",
       "    .dataframe tbody tr th {\n",
       "        vertical-align: top;\n",
       "    }\n",
       "\n",
       "    .dataframe thead th {\n",
       "        text-align: right;\n",
       "    }\n",
       "</style>\n",
       "<table border=\"1\" class=\"dataframe\">\n",
       "  <thead>\n",
       "    <tr style=\"text-align: right;\">\n",
       "      <th></th>\n",
       "      <th>SST</th>\n",
       "      <th>SOI</th>\n",
       "    </tr>\n",
       "  </thead>\n",
       "  <tbody>\n",
       "    <tr>\n",
       "      <th>2023-05-31</th>\n",
       "      <td>0.46</td>\n",
       "      <td>-1.769613</td>\n",
       "    </tr>\n",
       "    <tr>\n",
       "      <th>2023-06-30</th>\n",
       "      <td>0.84</td>\n",
       "      <td>-0.102333</td>\n",
       "    </tr>\n",
       "    <tr>\n",
       "      <th>2023-07-31</th>\n",
       "      <td>1.02</td>\n",
       "      <td>-0.402452</td>\n",
       "    </tr>\n",
       "    <tr>\n",
       "      <th>2023-08-31</th>\n",
       "      <td>1.35</td>\n",
       "      <td>-1.235484</td>\n",
       "    </tr>\n",
       "    <tr>\n",
       "      <th>2023-09-30</th>\n",
       "      <td>1.60</td>\n",
       "      <td>-1.377433</td>\n",
       "    </tr>\n",
       "  </tbody>\n",
       "</table>\n",
       "</div>"
      ],
      "text/plain": [
       "             SST       SOI\n",
       "2023-05-31  0.46 -1.769613\n",
       "2023-06-30  0.84 -0.102333\n",
       "2023-07-31  1.02 -0.402452\n",
       "2023-08-31  1.35 -1.235484\n",
       "2023-09-30  1.60 -1.377433"
      ]
     },
     "execution_count": 43,
     "metadata": {},
     "output_type": "execute_result"
    }
   ],
   "source": [
    "ENSO_index.head()"
   ]
  },
  {
   "cell_type": "code",
   "execution_count": 44,
   "metadata": {},
   "outputs": [
    {
     "data": {
      "text/html": [
       "<div>\n",
       "<style scoped>\n",
       "    .dataframe tbody tr th:only-of-type {\n",
       "        vertical-align: middle;\n",
       "    }\n",
       "\n",
       "    .dataframe tbody tr th {\n",
       "        vertical-align: top;\n",
       "    }\n",
       "\n",
       "    .dataframe thead th {\n",
       "        text-align: right;\n",
       "    }\n",
       "</style>\n",
       "<table border=\"1\" class=\"dataframe\">\n",
       "  <thead>\n",
       "    <tr style=\"text-align: right;\">\n",
       "      <th></th>\n",
       "      <th>SST</th>\n",
       "      <th>SOI</th>\n",
       "    </tr>\n",
       "  </thead>\n",
       "  <tbody>\n",
       "    <tr>\n",
       "      <th>2024-12-31</th>\n",
       "      <td>-0.60</td>\n",
       "      <td>1.084194</td>\n",
       "    </tr>\n",
       "    <tr>\n",
       "      <th>2025-01-31</th>\n",
       "      <td>-0.74</td>\n",
       "      <td>0.347161</td>\n",
       "    </tr>\n",
       "    <tr>\n",
       "      <th>2025-02-28</th>\n",
       "      <td>-0.43</td>\n",
       "      <td>0.766500</td>\n",
       "    </tr>\n",
       "    <tr>\n",
       "      <th>2025-03-31</th>\n",
       "      <td>0.01</td>\n",
       "      <td>0.959839</td>\n",
       "    </tr>\n",
       "    <tr>\n",
       "      <th>2025-04-30</th>\n",
       "      <td>-0.16</td>\n",
       "      <td>0.473300</td>\n",
       "    </tr>\n",
       "  </tbody>\n",
       "</table>\n",
       "</div>"
      ],
      "text/plain": [
       "             SST       SOI\n",
       "2024-12-31 -0.60  1.084194\n",
       "2025-01-31 -0.74  0.347161\n",
       "2025-02-28 -0.43  0.766500\n",
       "2025-03-31  0.01  0.959839\n",
       "2025-04-30 -0.16  0.473300"
      ]
     },
     "execution_count": 44,
     "metadata": {},
     "output_type": "execute_result"
    }
   ],
   "source": [
    "ENSO_index.tail()"
   ]
  },
  {
   "cell_type": "markdown",
   "metadata": {},
   "source": [
    "### get the last date "
   ]
  },
  {
   "cell_type": "code",
   "execution_count": 45,
   "metadata": {},
   "outputs": [],
   "source": [
    "last_date = pd.to_datetime(ENSO_index.index[-1])"
   ]
  },
  {
   "cell_type": "code",
   "execution_count": 46,
   "metadata": {},
   "outputs": [
    {
     "data": {
      "text/plain": [
       "Timestamp('2025-04-30 00:00:00')"
      ]
     },
     "execution_count": 46,
     "metadata": {},
     "output_type": "execute_result"
    }
   ],
   "source": [
    "last_date"
   ]
  },
  {
   "cell_type": "markdown",
   "metadata": {},
   "source": [
    "### get the values and the basis for plotting"
   ]
  },
  {
   "cell_type": "code",
   "execution_count": 47,
   "metadata": {},
   "outputs": [],
   "source": [
    "soi_values = ENSO_index.SOI.values"
   ]
  },
  {
   "cell_type": "code",
   "execution_count": 48,
   "metadata": {},
   "outputs": [],
   "source": [
    "nino_values = ENSO_index.SST.values "
   ]
  },
  {
   "cell_type": "code",
   "execution_count": 49,
   "metadata": {},
   "outputs": [],
   "source": [
    "basis = np.arange(len(ENSO_index))"
   ]
  },
  {
   "cell_type": "markdown",
   "metadata": {},
   "source": [
    "### build the list of dates for X-axis labeling "
   ]
  },
  {
   "cell_type": "code",
   "execution_count": 50,
   "metadata": {},
   "outputs": [],
   "source": [
    "dates = ENSO_index.index.to_pydatetime()"
   ]
  },
  {
   "cell_type": "code",
   "execution_count": 51,
   "metadata": {},
   "outputs": [],
   "source": [
    "dates_str = [f\"{x:%b %Y}\" for x in dates]"
   ]
  },
  {
   "cell_type": "markdown",
   "metadata": {},
   "source": [
    "### Now read the ENSO categories from NOAA, BoM, APCC and NOAA"
   ]
  },
  {
   "cell_type": "code",
   "execution_count": 52,
   "metadata": {},
   "outputs": [
    {
     "name": "stderr",
     "output_type": "stream",
     "text": [
      "/tmp/ipykernel_22450/1927798126.py:22: FutureWarning: Downcasting behavior in `replace` is deprecated and will be removed in a future version. To retain the old behavior, explicitly call `result.infer_objects(copy=False)`. To opt-in to the future behavior, set `pd.set_option('future.no_silent_downcasting', True)`\n",
      "  enso_cat_int = enso_cat.replace(cat_to_int)\n",
      "/tmp/ipykernel_22450/1927798126.py:27: FutureWarning: Setting an item of incompatible dtype is deprecated and will raise in a future error of pandas. Value '['2019-01' '2019-02' '2019-03' '2019-04' '2019-05' '2019-06' '2019-07'\n",
      " '2019-08' '2019-09' '2019-10' '2019-11' '2019-12' '2020-01' '2020-02'\n",
      " '2020-03' '2020-04' '2020-05' '2020-06' '2020-07' '2020-08' '2020-09'\n",
      " '2020-10' '2020-11' '2020-12' '2021-01' '2021-02' '2021-03' '2021-04'\n",
      " '2021-05' '2021-06' '2021-07' '2021-08' '2021-09' '2021-10' '2021-11'\n",
      " '2021-12' '2022-01' '2022-02' '2022-03' '2022-04' '2022-05' '2022-06'\n",
      " '2022-07' '2022-08' '2022-09' '2022-10' '2022-11' '2022-12' '2023-01'\n",
      " '2023-02' '2023-03' '2023-04' '2023-05' '2023-06' '2023-07' '2023-08'\n",
      " '2023-09' '2023-10' '2023-11' '2023-12' '2024-01' '2024-02' '2024-03'\n",
      " '2024-04' '2024-05' '2024-06' '2024-07' '2024-08' '2024-09' '2024-10'\n",
      " '2024-11' '2024-12' '2025-01' '2025-02' '2025-03']' has dtype incompatible with float64, please explicitly cast to a compatible dtype first.\n",
      "  enso_cat_int.loc[:,'date'] = enso_cat_int.loc[:,'YEAR'].astype(str) + \"-\" + enso_cat_int.loc[:,'MONTH'].astype(str).str.zfill(2)\n"
     ]
    }
   ],
   "source": [
    "enso_cat_int = read_ENSO_categories()"
   ]
  },
  {
   "cell_type": "code",
   "execution_count": 53,
   "metadata": {},
   "outputs": [
    {
     "data": {
      "text/html": [
       "<div>\n",
       "<style scoped>\n",
       "    .dataframe tbody tr th:only-of-type {\n",
       "        vertical-align: middle;\n",
       "    }\n",
       "\n",
       "    .dataframe tbody tr th {\n",
       "        vertical-align: top;\n",
       "    }\n",
       "\n",
       "    .dataframe thead th {\n",
       "        text-align: right;\n",
       "    }\n",
       "</style>\n",
       "<table border=\"1\" class=\"dataframe\">\n",
       "  <thead>\n",
       "    <tr style=\"text-align: right;\">\n",
       "      <th></th>\n",
       "      <th>SST</th>\n",
       "      <th>SOI</th>\n",
       "    </tr>\n",
       "  </thead>\n",
       "  <tbody>\n",
       "    <tr>\n",
       "      <th>2024-11-30</th>\n",
       "      <td>-0.25</td>\n",
       "      <td>0.655333</td>\n",
       "    </tr>\n",
       "    <tr>\n",
       "      <th>2024-12-31</th>\n",
       "      <td>-0.60</td>\n",
       "      <td>1.084194</td>\n",
       "    </tr>\n",
       "    <tr>\n",
       "      <th>2025-01-31</th>\n",
       "      <td>-0.74</td>\n",
       "      <td>0.347161</td>\n",
       "    </tr>\n",
       "    <tr>\n",
       "      <th>2025-02-28</th>\n",
       "      <td>-0.43</td>\n",
       "      <td>0.766500</td>\n",
       "    </tr>\n",
       "    <tr>\n",
       "      <th>2025-03-31</th>\n",
       "      <td>-0.01</td>\n",
       "      <td>0.959839</td>\n",
       "    </tr>\n",
       "  </tbody>\n",
       "</table>\n",
       "</div>"
      ],
      "text/plain": [
       "             SST       SOI\n",
       "2024-11-30 -0.25  0.655333\n",
       "2024-12-31 -0.60  1.084194\n",
       "2025-01-31 -0.74  0.347161\n",
       "2025-02-28 -0.43  0.766500\n",
       "2025-03-31 -0.01  0.959839"
      ]
     },
     "execution_count": 53,
     "metadata": {},
     "output_type": "execute_result"
    }
   ],
   "source": [
    "ENSO_index.tail()"
   ]
  },
  {
   "cell_type": "code",
   "execution_count": 54,
   "metadata": {},
   "outputs": [
    {
     "data": {
      "text/html": [
       "<div>\n",
       "<style scoped>\n",
       "    .dataframe tbody tr th:only-of-type {\n",
       "        vertical-align: middle;\n",
       "    }\n",
       "\n",
       "    .dataframe tbody tr th {\n",
       "        vertical-align: top;\n",
       "    }\n",
       "\n",
       "    .dataframe thead th {\n",
       "        text-align: right;\n",
       "    }\n",
       "</style>\n",
       "<table border=\"1\" class=\"dataframe\">\n",
       "  <thead>\n",
       "    <tr style=\"text-align: right;\">\n",
       "      <th></th>\n",
       "      <th>NOAA</th>\n",
       "      <th>BoM</th>\n",
       "      <th>APCC</th>\n",
       "      <th>NIWA</th>\n",
       "    </tr>\n",
       "    <tr>\n",
       "      <th>date</th>\n",
       "      <th></th>\n",
       "      <th></th>\n",
       "      <th></th>\n",
       "      <th></th>\n",
       "    </tr>\n",
       "  </thead>\n",
       "  <tbody>\n",
       "    <tr>\n",
       "      <th>2024-11-30</th>\n",
       "      <td>-1</td>\n",
       "      <td>-1</td>\n",
       "      <td>-1</td>\n",
       "      <td>-1</td>\n",
       "    </tr>\n",
       "    <tr>\n",
       "      <th>2024-12-31</th>\n",
       "      <td>-1</td>\n",
       "      <td>-1</td>\n",
       "      <td>-1</td>\n",
       "      <td>-1</td>\n",
       "    </tr>\n",
       "    <tr>\n",
       "      <th>2025-01-31</th>\n",
       "      <td>-3</td>\n",
       "      <td>0</td>\n",
       "      <td>-1</td>\n",
       "      <td>-3</td>\n",
       "    </tr>\n",
       "    <tr>\n",
       "      <th>2025-02-28</th>\n",
       "      <td>-3</td>\n",
       "      <td>0</td>\n",
       "      <td>0</td>\n",
       "      <td>-3</td>\n",
       "    </tr>\n",
       "    <tr>\n",
       "      <th>2025-03-31</th>\n",
       "      <td>-3</td>\n",
       "      <td>0</td>\n",
       "      <td>0</td>\n",
       "      <td>0</td>\n",
       "    </tr>\n",
       "  </tbody>\n",
       "</table>\n",
       "</div>"
      ],
      "text/plain": [
       "            NOAA  BoM  APCC  NIWA\n",
       "date                             \n",
       "2024-11-30    -1   -1    -1    -1\n",
       "2024-12-31    -1   -1    -1    -1\n",
       "2025-01-31    -3    0    -1    -3\n",
       "2025-02-28    -3    0     0    -3\n",
       "2025-03-31    -3    0     0     0"
      ]
     },
     "execution_count": 54,
     "metadata": {},
     "output_type": "execute_result"
    }
   ],
   "source": [
    "enso_cat_int.tail()"
   ]
  },
  {
   "cell_type": "code",
   "execution_count": 55,
   "metadata": {},
   "outputs": [],
   "source": [
    "enso_cat_int = enso_cat_int.loc[ENSO_index.index,:]"
   ]
  },
  {
   "cell_type": "markdown",
   "metadata": {},
   "source": [
    "### colors for the heatmap "
   ]
  },
  {
   "cell_type": "code",
   "execution_count": 56,
   "metadata": {},
   "outputs": [],
   "source": [
    "col_dict={-3:\"#4233ff\",\n",
    "          -2:\"#33a2ff\",\n",
    "          -1:\"#33ffbb\",\n",
    "          0:\"#d4d4d4\",\n",
    "          1:\"#f3ff33\", \n",
    "          2:\"#ffa233\",\n",
    "          3:\"#dc0f09\"\n",
    "         }\n",
    "\n",
    "cm = ListedColormap([col_dict[x] for x in col_dict.keys()])"
   ]
  },
  {
   "cell_type": "code",
   "execution_count": 57,
   "metadata": {},
   "outputs": [],
   "source": [
    "matplotlib.rc('xtick', labelsize=14) \n",
    "matplotlib.rc('ytick', labelsize=14) "
   ]
  },
  {
   "cell_type": "code",
   "execution_count": 58,
   "metadata": {},
   "outputs": [
    {
     "data": {
      "image/png": "[encoded data removed]",
      "text/plain": [
       "<Figure size 800x800 with 4 Axes>"
      ]
     },
     "metadata": {},
     "output_type": "display_data"
    }
   ],
   "source": [
    "f = plt.figure(figsize=(8,8))\n",
    "\n",
    "# defines the axes [left, bottom, width, height]\n",
    "\n",
    "ax0 = f.add_axes([0.1, 0.66, 0.9, 0.3])\n",
    "\n",
    "ax0.set_title(\"Pacific Regional Climate Centre ENSO tracker\\n\", fontsize=16)\n",
    "\n",
    "ax1 = f.add_axes([0.1, 0.33, 0.755, 0.33])\n",
    "\n",
    "ax2 = f.add_axes([0.1, 0.05, 0.755, 0.30])\n",
    "\n",
    "#============================================================================================================================\n",
    "# first set of axes: ENSO categories heatmap \n",
    "\n",
    "sns.heatmap(enso_cat_int.T, cmap=cm, center=0, vmin=-3, vmax=3, ax=ax0, \\\n",
    "            cbar_kws={'aspect':5, 'pad':0.01}) \n",
    "\n",
    "colorbar = ax0.collections[0].colorbar \n",
    "\n",
    "# ax0.set_yticks([0.8, 1.8, 2.8, 3.8]);\n",
    "ax0.set_yticks([0.6, 1.6, 2.6, 3.6]);\n",
    "\n",
    "ax0.set_yticklabels(['NOAA','BoM','APCC','NIWA'], fontsize=14)\n",
    "\n",
    "ax0.set_ylim(bottom=0,top=4)\n",
    "\n",
    "[ax0.axvline(x, color='k', lw=2, alpha=0.5) for x in range(0,len(enso_cat_int) + 1)];\n",
    "\n",
    "[ax0.axhline(x, color='k', lw=2, alpha=0.5) for x in range(1,5)];\n",
    "\n",
    "ax0.tick_params(direction='out', length=0, width=0)\n",
    "\n",
    "colorbar.set_ticks([-2.5, -1.75, -0.8,  0.,  0.90, 1.75,  2.6])\n",
    "\n",
    "colorbar.set_ticklabels([\"La Nina\", \"La Nina Alert\", \"La Nina Watch\", \"Neutral\", \"El Nino Watch\", \"El Nino Alert\", \"El Nino\"])    \n",
    "\n",
    "colorbar.ax.tick_params(direction='out', length=0, width=0)\n",
    "\n",
    "#============================================================================================================================\n",
    "# second set of axes: ENSO barplot\n",
    "\n",
    "ax1.bar(basis[nino_values>=0],nino_values[nino_values>=0], width=1, facecolor='coral', alpha=.8, edgecolor='k', lw=2)\n",
    "ax1.bar(basis[nino_values<0],nino_values[nino_values<0], width=1, facecolor='steelblue', alpha=.8, edgecolor='k', lw=2)\n",
    "\n",
    "ax1.set_xticks(basis)\n",
    "\n",
    "ax1.set_xticklabels(dates_str, rotation=90)\n",
    "\n",
    "ax1.set_xlim([-0.5,len(dates) - 0.5])\n",
    "\n",
    "# get the minimum and maximum values, and set limits and ticks for the y-axis accordingly \n",
    "max_nino = np.ceil(np.max(np.abs(nino_values)))\n",
    "min_nino =- max_nino\n",
    "\n",
    "if max_nino > 1: \n",
    "    ax1.set_ylim([min_nino, max_nino])\n",
    "    ax1.set_yticks(np.arange(min_nino+0.5, max_nino, 0.5))\n",
    "else: \n",
    "    ax1.set_ylim([-1, 1])\n",
    "    ax1.set_yticks([-0.7, 0, 0.7])                  \n",
    "    \n",
    "ax1.axhline(-0.7, ls=':', color='b')\n",
    "ax1.axhline(0.7, ls=':', color='r')\n",
    "\n",
    "ax1.yaxis.tick_right()\n",
    "\n",
    "ax1.set_ylabel('monthly NINO 3.4\\nanomalies (℃)', fontsize=14)\n",
    "\n",
    "ax1.yaxis.set_label_position(\"right\")\n",
    "\n",
    "[ax1.axvline(x, color='k', lw=1, alpha=0.5, ls=':') for x in np.arange(0.5,len(dates)-0.5)];\n",
    "\n",
    "ax1.set_xlabel('month', fontsize=14)\n",
    "\n",
    "ax1.text(0.01, 0.9, 'NINO 3.4', transform=ax1.transAxes, fontsize=15, bbox=dict(facecolor='white', alpha=1, edgecolor='white'))\n",
    "\n",
    "#============================================================================================================================\n",
    "# second set of axes: SOI barplot\n",
    "\n",
    "ax2.bar(basis[soi_values>=0],soi_values[soi_values>=0], width=1, facecolor='steelblue', alpha=.8, edgecolor='k', lw=2)\n",
    "ax2.bar(basis[soi_values<0],soi_values[soi_values<0], width=1, facecolor='coral', alpha=.8, edgecolor='k', lw=2)\n",
    "\n",
    "ax2.set_xticks(basis)\n",
    "\n",
    "ax2.set_xticklabels(dates_str, rotation=90)\n",
    "\n",
    "ax2.set_xlim([-0.5,len(dates) - 0.5])\n",
    "\n",
    "# get the minimum and maximum values, and set limits and ticks for the y-axis accordingly \n",
    "max_soi = np.ceil(np.max(np.abs(soi_values)))\n",
    "min_soi =- max_soi\n",
    "\n",
    "if max_soi > 1.5: \n",
    "    ax2.set_ylim([min_soi, max_soi])\n",
    "    ax2.set_yticks(np.arange(min_soi+0.5, max_soi, 0.5))\n",
    "else: \n",
    "    ax2.set_ylim([-1.5, 1.5])\n",
    "    ax2.set_yticks([-1, 0, 1])       \n",
    "\n",
    "ax2.axhline(-1, ls=':', color='r')\n",
    "ax2.axhline(1, ls=':', color='b')\n",
    "\n",
    "ax2.yaxis.tick_right()\n",
    "\n",
    "ax2.yaxis.set_label_position(\"right\")\n",
    "\n",
    "ax2.set_ylabel('monthly SOI (std)', fontsize=14)\n",
    "\n",
    "ax2.yaxis.set_label_position(\"right\")\n",
    "\n",
    "ax2.text(0.01, 0.9, 'SOI', transform=ax2.transAxes, fontsize=15, bbox=dict(facecolor='white', alpha=1, edgecolor='white'))\n",
    "\n",
    "[ax2.axvline(x, color='k', lw=1, alpha=0.5, ls=':') for x in np.arange(0.5,len(dates)-0.5)];\n",
    "\n",
    "# f.patch.set_facecolor('0.99')\n",
    "f.patch.set_facecolor('w')"
   ]
  },
  {
   "cell_type": "markdown",
   "metadata": {},
   "source": [
    "### saves to file "
   ]
  },
  {
   "cell_type": "code",
   "execution_count": 59,
   "metadata": {},
   "outputs": [],
   "source": [
    "f.savefig('../figures/prototype_Pacific_RCC.png', dpi=200, bbox_inches='tight')"
   ]
  },
  {
   "cell_type": "markdown",
   "metadata": {},
   "source": [
    "### push to github"
   ]
  },
  {
   "cell_type": "code",
   "execution_count": 60,
   "metadata": {},
   "outputs": [
    {
     "name": "stdout",
     "output_type": "stream",
     "text": [
      "/home/fauchereaun/operational/PI-RCC/Pacific_RCC\n"
     ]
    }
   ],
   "source": [
    "%cd \"/home/fauchereaun/operational/PI-RCC/Pacific_RCC\" "
   ]
  },
  {
   "cell_type": "code",
   "execution_count": 61,
   "metadata": {},
   "outputs": [],
   "source": [
    "# Specify the Git commands as strings\n",
    "git_add = 'git add figures/prototype_Pacific_RCC.png notebooks/Pacific_RCC_ENSO_tracker.ipynb'\n",
    "git_commit = f'git commit -m \"updated on {year}-{month}\"'\n",
    "git_push = 'git push'"
   ]
  },
  {
   "cell_type": "code",
   "execution_count": 62,
   "metadata": {},
   "outputs": [],
   "source": [
    "!{git_add}"
   ]
  },
  {
   "cell_type": "code",
   "execution_count": 63,
   "metadata": {},
   "outputs": [
    {
     "name": "stdout",
     "output_type": "stream",
     "text": [
      "[main ee65e34] updated on 2025-3\n",
      " 2 files changed, 2024 insertions(+), 1825 deletions(-)\n",
      " rewrite figures/prototype_Pacific_RCC.png (96%)\n",
      " rewrite notebooks/Pacific_RCC_ENSO_tracker.ipynb (73%)\n"
     ]
    }
   ],
   "source": [
    "!{git_commit}"
   ]
  },
  {
   "cell_type": "code",
   "execution_count": 64,
   "metadata": {},
   "outputs": [
    {
     "name": "stdout",
     "output_type": "stream",
     "text": [
      "Enumerating objects: 11, done.\n",
      "Counting objects: 100% (11/11), done.\n",
      "Delta compression using up to 12 threads\n",
      "Compressing objects: 100% (6/6), done.\n",
      "Writing objects: 100% (6/6), 296.46 KiB | 1.37 MiB/s, done.\n",
      "Total 6 (delta 0), reused 0 (delta 0), pack-reused 0\n",
      "To github.com:nicolasfauchereau/Pacific_RCC.git\n",
      "   0374d4c..ee65e34  main -> main\n"
     ]
    }
   ],
   "source": [
    "!{git_push}"
   ]
  },
  {
   "cell_type": "code",
   "execution_count": null,
   "metadata": {},
   "outputs": [],
   "source": []
  },
  {
   "cell_type": "code",
   "execution_count": null,
   "metadata": {},
   "outputs": [],
   "source": []
  }
 ],
 "metadata": {
  "kernelspec": {
   "display_name": "WMO",
   "language": "python",
   "name": "wmo"
  },
  "language_info": {
   "codemirror_mode": {
    "name": "ipython",
    "version": 3
   },
   "file_extension": ".py",
   "mimetype": "text/x-python",
   "name": "python",
   "nbconvert_exporter": "python",
   "pygments_lexer": "ipython3",
   "version": "3.11.10"
  }
 },
 "nbformat": 4,
 "nbformat_minor": 4
}
